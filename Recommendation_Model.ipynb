{
  "cells": [
    {
      "cell_type": "markdown",
      "metadata": {},
      "source": [
        "# Analisis de un modelo de recomendacion"
      ]
    },
    {
      "cell_type": "markdown",
      "metadata": {},
      "source": [
        "Se realizara una recomendacion del tipo USUARIOXITEM, se usara ALS de la libreria implicit, debido a sus ventajas de escalamiento, descubrir patrones ocultos y manejo de datos dispersos."
      ]
    },
    {
      "cell_type": "code",
      "execution_count": 41,
      "metadata": {
        "colab": {
          "base_uri": "https://localhost:8080/",
          "height": 367
        },
        "id": "KuYwm4zXnigc",
        "outputId": "ff1fb200-a491-412f-aeb6-f846061a6aa7"
      },
      "outputs": [],
      "source": [
        "#Importamos librerias\n",
        "import numpy as np\n",
        "import pandas as pd\n",
        "from scipy.sparse import csr_matrix\n",
        "from sklearn.model_selection import train_test_split,ParameterGrid\n",
        "import implicit #Porque usaremos datos implicitos, no se tiene el rating\n",
        "from implicit.evaluation import AUC_at_k"
      ]
    },
    {
      "cell_type": "markdown",
      "metadata": {},
      "source": [
        "## 1. Feature engineering"
      ]
    },
    {
      "cell_type": "code",
      "execution_count": 65,
      "metadata": {
        "id": "osRA57sMmiwt"
      },
      "outputs": [],
      "source": [
        "#Cargamos la datos que vamos a utilizar\n",
        "data_train = pd.read_csv(\"./data/order_products__train.csv\") # Usamos el train por la cantidad de registros es menor (menor costo computacional)\n",
        "orders = pd.read_csv(\"./data/orders.csv\")\n",
        "products = pd.read_csv(\"./data/products.csv\")"
      ]
    },
    {
      "cell_type": "code",
      "execution_count": 43,
      "metadata": {},
      "outputs": [
        {
          "data": {
            "text/html": [
              "<div>\n",
              "<style scoped>\n",
              "    .dataframe tbody tr th:only-of-type {\n",
              "        vertical-align: middle;\n",
              "    }\n",
              "\n",
              "    .dataframe tbody tr th {\n",
              "        vertical-align: top;\n",
              "    }\n",
              "\n",
              "    .dataframe thead th {\n",
              "        text-align: right;\n",
              "    }\n",
              "</style>\n",
              "<table border=\"1\" class=\"dataframe\">\n",
              "  <thead>\n",
              "    <tr style=\"text-align: right;\">\n",
              "      <th></th>\n",
              "      <th>order_id</th>\n",
              "      <th>product_id</th>\n",
              "      <th>add_to_cart_order</th>\n",
              "      <th>reordered</th>\n",
              "    </tr>\n",
              "  </thead>\n",
              "  <tbody>\n",
              "    <tr>\n",
              "      <th>0</th>\n",
              "      <td>1</td>\n",
              "      <td>49302</td>\n",
              "      <td>1</td>\n",
              "      <td>1</td>\n",
              "    </tr>\n",
              "    <tr>\n",
              "      <th>1</th>\n",
              "      <td>1</td>\n",
              "      <td>11109</td>\n",
              "      <td>2</td>\n",
              "      <td>1</td>\n",
              "    </tr>\n",
              "    <tr>\n",
              "      <th>2</th>\n",
              "      <td>1</td>\n",
              "      <td>10246</td>\n",
              "      <td>3</td>\n",
              "      <td>0</td>\n",
              "    </tr>\n",
              "    <tr>\n",
              "      <th>3</th>\n",
              "      <td>1</td>\n",
              "      <td>49683</td>\n",
              "      <td>4</td>\n",
              "      <td>0</td>\n",
              "    </tr>\n",
              "    <tr>\n",
              "      <th>4</th>\n",
              "      <td>1</td>\n",
              "      <td>43633</td>\n",
              "      <td>5</td>\n",
              "      <td>1</td>\n",
              "    </tr>\n",
              "  </tbody>\n",
              "</table>\n",
              "</div>"
            ],
            "text/plain": [
              "   order_id  product_id  add_to_cart_order  reordered\n",
              "0         1       49302                  1          1\n",
              "1         1       11109                  2          1\n",
              "2         1       10246                  3          0\n",
              "3         1       49683                  4          0\n",
              "4         1       43633                  5          1"
            ]
          },
          "execution_count": 43,
          "metadata": {},
          "output_type": "execute_result"
        }
      ],
      "source": [
        "data_train.head()"
      ]
    },
    {
      "cell_type": "code",
      "execution_count": 44,
      "metadata": {},
      "outputs": [
        {
          "data": {
            "text/html": [
              "<div>\n",
              "<style scoped>\n",
              "    .dataframe tbody tr th:only-of-type {\n",
              "        vertical-align: middle;\n",
              "    }\n",
              "\n",
              "    .dataframe tbody tr th {\n",
              "        vertical-align: top;\n",
              "    }\n",
              "\n",
              "    .dataframe thead th {\n",
              "        text-align: right;\n",
              "    }\n",
              "</style>\n",
              "<table border=\"1\" class=\"dataframe\">\n",
              "  <thead>\n",
              "    <tr style=\"text-align: right;\">\n",
              "      <th></th>\n",
              "      <th>order_id</th>\n",
              "      <th>user_id</th>\n",
              "      <th>eval_set</th>\n",
              "      <th>order_number</th>\n",
              "      <th>order_dow</th>\n",
              "      <th>order_hour_of_day</th>\n",
              "      <th>days_since_prior_order</th>\n",
              "    </tr>\n",
              "  </thead>\n",
              "  <tbody>\n",
              "    <tr>\n",
              "      <th>0</th>\n",
              "      <td>2539329</td>\n",
              "      <td>1</td>\n",
              "      <td>prior</td>\n",
              "      <td>1</td>\n",
              "      <td>2</td>\n",
              "      <td>8</td>\n",
              "      <td>NaN</td>\n",
              "    </tr>\n",
              "    <tr>\n",
              "      <th>1</th>\n",
              "      <td>2398795</td>\n",
              "      <td>1</td>\n",
              "      <td>prior</td>\n",
              "      <td>2</td>\n",
              "      <td>3</td>\n",
              "      <td>7</td>\n",
              "      <td>15.0</td>\n",
              "    </tr>\n",
              "    <tr>\n",
              "      <th>2</th>\n",
              "      <td>473747</td>\n",
              "      <td>1</td>\n",
              "      <td>prior</td>\n",
              "      <td>3</td>\n",
              "      <td>3</td>\n",
              "      <td>12</td>\n",
              "      <td>21.0</td>\n",
              "    </tr>\n",
              "    <tr>\n",
              "      <th>3</th>\n",
              "      <td>2254736</td>\n",
              "      <td>1</td>\n",
              "      <td>prior</td>\n",
              "      <td>4</td>\n",
              "      <td>4</td>\n",
              "      <td>7</td>\n",
              "      <td>29.0</td>\n",
              "    </tr>\n",
              "    <tr>\n",
              "      <th>4</th>\n",
              "      <td>431534</td>\n",
              "      <td>1</td>\n",
              "      <td>prior</td>\n",
              "      <td>5</td>\n",
              "      <td>4</td>\n",
              "      <td>15</td>\n",
              "      <td>28.0</td>\n",
              "    </tr>\n",
              "  </tbody>\n",
              "</table>\n",
              "</div>"
            ],
            "text/plain": [
              "   order_id  user_id eval_set  order_number  order_dow  order_hour_of_day  \\\n",
              "0   2539329        1    prior             1          2                  8   \n",
              "1   2398795        1    prior             2          3                  7   \n",
              "2    473747        1    prior             3          3                 12   \n",
              "3   2254736        1    prior             4          4                  7   \n",
              "4    431534        1    prior             5          4                 15   \n",
              "\n",
              "   days_since_prior_order  \n",
              "0                     NaN  \n",
              "1                    15.0  \n",
              "2                    21.0  \n",
              "3                    29.0  \n",
              "4                    28.0  "
            ]
          },
          "execution_count": 44,
          "metadata": {},
          "output_type": "execute_result"
        }
      ],
      "source": [
        "orders.head()"
      ]
    },
    {
      "cell_type": "code",
      "execution_count": 45,
      "metadata": {},
      "outputs": [
        {
          "data": {
            "text/html": [
              "<div>\n",
              "<style scoped>\n",
              "    .dataframe tbody tr th:only-of-type {\n",
              "        vertical-align: middle;\n",
              "    }\n",
              "\n",
              "    .dataframe tbody tr th {\n",
              "        vertical-align: top;\n",
              "    }\n",
              "\n",
              "    .dataframe thead th {\n",
              "        text-align: right;\n",
              "    }\n",
              "</style>\n",
              "<table border=\"1\" class=\"dataframe\">\n",
              "  <thead>\n",
              "    <tr style=\"text-align: right;\">\n",
              "      <th></th>\n",
              "      <th>product_id</th>\n",
              "      <th>product_name</th>\n",
              "      <th>aisle_id</th>\n",
              "      <th>department_id</th>\n",
              "    </tr>\n",
              "  </thead>\n",
              "  <tbody>\n",
              "    <tr>\n",
              "      <th>0</th>\n",
              "      <td>1</td>\n",
              "      <td>Chocolate Sandwich Cookies</td>\n",
              "      <td>61</td>\n",
              "      <td>19</td>\n",
              "    </tr>\n",
              "    <tr>\n",
              "      <th>1</th>\n",
              "      <td>2</td>\n",
              "      <td>All-Seasons Salt</td>\n",
              "      <td>104</td>\n",
              "      <td>13</td>\n",
              "    </tr>\n",
              "    <tr>\n",
              "      <th>2</th>\n",
              "      <td>3</td>\n",
              "      <td>Robust Golden Unsweetened Oolong Tea</td>\n",
              "      <td>94</td>\n",
              "      <td>7</td>\n",
              "    </tr>\n",
              "    <tr>\n",
              "      <th>3</th>\n",
              "      <td>4</td>\n",
              "      <td>Smart Ones Classic Favorites Mini Rigatoni Wit...</td>\n",
              "      <td>38</td>\n",
              "      <td>1</td>\n",
              "    </tr>\n",
              "    <tr>\n",
              "      <th>4</th>\n",
              "      <td>5</td>\n",
              "      <td>Green Chile Anytime Sauce</td>\n",
              "      <td>5</td>\n",
              "      <td>13</td>\n",
              "    </tr>\n",
              "  </tbody>\n",
              "</table>\n",
              "</div>"
            ],
            "text/plain": [
              "   product_id                                       product_name  aisle_id  \\\n",
              "0           1                         Chocolate Sandwich Cookies        61   \n",
              "1           2                                   All-Seasons Salt       104   \n",
              "2           3               Robust Golden Unsweetened Oolong Tea        94   \n",
              "3           4  Smart Ones Classic Favorites Mini Rigatoni Wit...        38   \n",
              "4           5                          Green Chile Anytime Sauce         5   \n",
              "\n",
              "   department_id  \n",
              "0             19  \n",
              "1             13  \n",
              "2              7  \n",
              "3              1  \n",
              "4             13  "
            ]
          },
          "execution_count": 45,
          "metadata": {},
          "output_type": "execute_result"
        }
      ],
      "source": [
        "products.head()"
      ]
    },
    {
      "cell_type": "code",
      "execution_count": 66,
      "metadata": {
        "id": "dKnxuW5lqg2G"
      },
      "outputs": [],
      "source": [
        "# Filtramos solo las ordenes relacionadas con train\n",
        "orders_train = orders[orders[\"eval_set\"] == \"train\"]"
      ]
    },
    {
      "cell_type": "code",
      "execution_count": 67,
      "metadata": {},
      "outputs": [],
      "source": [
        "# Guardo la data procesada porque github no me permite subir toda la data\n",
        "orders_train.to_csv(\"./data/orders.csv\", index=False)"
      ]
    },
    {
      "cell_type": "code",
      "execution_count": 47,
      "metadata": {
        "id": "e5my_iTJo952"
      },
      "outputs": [],
      "source": [
        "# Unimos las ordenes con la data para obtener al usuario id, producto id juntos\n",
        "data = pd.merge(data_train,orders_train,on=\"order_id\")"
      ]
    },
    {
      "cell_type": "code",
      "execution_count": 48,
      "metadata": {},
      "outputs": [],
      "source": [
        "# Mientras mas alto el add_to_cart_order, le doy un menor score\n",
        "data[\"score\"] = (1 + data[\"reordered\"]) / data[\"add_to_cart_order\"] #Heuristica\n",
        "\n",
        "# Luego normaliza los valores a un rango de 0 a 1\n",
        "data[\"score\"] = (data[\"score\"] - data[\"score\"].min()) / (data[\"score\"].max() - data[\"score\"].min())\n"
      ]
    },
    {
      "cell_type": "code",
      "execution_count": 49,
      "metadata": {
        "colab": {
          "base_uri": "https://localhost:8080/",
          "height": 423
        },
        "id": "2eIXQO4irBF_",
        "outputId": "6db0fc4a-b281-4740-8414-701d31386fc8"
      },
      "outputs": [
        {
          "data": {
            "text/html": [
              "<div>\n",
              "<style scoped>\n",
              "    .dataframe tbody tr th:only-of-type {\n",
              "        vertical-align: middle;\n",
              "    }\n",
              "\n",
              "    .dataframe tbody tr th {\n",
              "        vertical-align: top;\n",
              "    }\n",
              "\n",
              "    .dataframe thead th {\n",
              "        text-align: right;\n",
              "    }\n",
              "</style>\n",
              "<table border=\"1\" class=\"dataframe\">\n",
              "  <thead>\n",
              "    <tr style=\"text-align: right;\">\n",
              "      <th></th>\n",
              "      <th>order_id</th>\n",
              "      <th>product_id</th>\n",
              "      <th>add_to_cart_order</th>\n",
              "      <th>reordered</th>\n",
              "      <th>user_id</th>\n",
              "      <th>eval_set</th>\n",
              "      <th>order_number</th>\n",
              "      <th>order_dow</th>\n",
              "      <th>order_hour_of_day</th>\n",
              "      <th>days_since_prior_order</th>\n",
              "      <th>score</th>\n",
              "    </tr>\n",
              "  </thead>\n",
              "  <tbody>\n",
              "    <tr>\n",
              "      <th>0</th>\n",
              "      <td>1</td>\n",
              "      <td>49302</td>\n",
              "      <td>1</td>\n",
              "      <td>1</td>\n",
              "      <td>112108</td>\n",
              "      <td>train</td>\n",
              "      <td>4</td>\n",
              "      <td>4</td>\n",
              "      <td>10</td>\n",
              "      <td>9.0</td>\n",
              "      <td>1.000000</td>\n",
              "    </tr>\n",
              "    <tr>\n",
              "      <th>1</th>\n",
              "      <td>1</td>\n",
              "      <td>11109</td>\n",
              "      <td>2</td>\n",
              "      <td>1</td>\n",
              "      <td>112108</td>\n",
              "      <td>train</td>\n",
              "      <td>4</td>\n",
              "      <td>4</td>\n",
              "      <td>10</td>\n",
              "      <td>9.0</td>\n",
              "      <td>0.496855</td>\n",
              "    </tr>\n",
              "    <tr>\n",
              "      <th>2</th>\n",
              "      <td>1</td>\n",
              "      <td>10246</td>\n",
              "      <td>3</td>\n",
              "      <td>0</td>\n",
              "      <td>112108</td>\n",
              "      <td>train</td>\n",
              "      <td>4</td>\n",
              "      <td>4</td>\n",
              "      <td>10</td>\n",
              "      <td>9.0</td>\n",
              "      <td>0.161426</td>\n",
              "    </tr>\n",
              "    <tr>\n",
              "      <th>3</th>\n",
              "      <td>1</td>\n",
              "      <td>49683</td>\n",
              "      <td>4</td>\n",
              "      <td>0</td>\n",
              "      <td>112108</td>\n",
              "      <td>train</td>\n",
              "      <td>4</td>\n",
              "      <td>4</td>\n",
              "      <td>10</td>\n",
              "      <td>9.0</td>\n",
              "      <td>0.119497</td>\n",
              "    </tr>\n",
              "    <tr>\n",
              "      <th>4</th>\n",
              "      <td>1</td>\n",
              "      <td>43633</td>\n",
              "      <td>5</td>\n",
              "      <td>1</td>\n",
              "      <td>112108</td>\n",
              "      <td>train</td>\n",
              "      <td>4</td>\n",
              "      <td>4</td>\n",
              "      <td>10</td>\n",
              "      <td>9.0</td>\n",
              "      <td>0.194969</td>\n",
              "    </tr>\n",
              "    <tr>\n",
              "      <th>...</th>\n",
              "      <td>...</td>\n",
              "      <td>...</td>\n",
              "      <td>...</td>\n",
              "      <td>...</td>\n",
              "      <td>...</td>\n",
              "      <td>...</td>\n",
              "      <td>...</td>\n",
              "      <td>...</td>\n",
              "      <td>...</td>\n",
              "      <td>...</td>\n",
              "      <td>...</td>\n",
              "    </tr>\n",
              "    <tr>\n",
              "      <th>1384612</th>\n",
              "      <td>3421063</td>\n",
              "      <td>14233</td>\n",
              "      <td>3</td>\n",
              "      <td>1</td>\n",
              "      <td>169679</td>\n",
              "      <td>train</td>\n",
              "      <td>30</td>\n",
              "      <td>0</td>\n",
              "      <td>10</td>\n",
              "      <td>4.0</td>\n",
              "      <td>0.329140</td>\n",
              "    </tr>\n",
              "    <tr>\n",
              "      <th>1384613</th>\n",
              "      <td>3421063</td>\n",
              "      <td>35548</td>\n",
              "      <td>4</td>\n",
              "      <td>1</td>\n",
              "      <td>169679</td>\n",
              "      <td>train</td>\n",
              "      <td>30</td>\n",
              "      <td>0</td>\n",
              "      <td>10</td>\n",
              "      <td>4.0</td>\n",
              "      <td>0.245283</td>\n",
              "    </tr>\n",
              "    <tr>\n",
              "      <th>1384614</th>\n",
              "      <td>3421070</td>\n",
              "      <td>35951</td>\n",
              "      <td>1</td>\n",
              "      <td>1</td>\n",
              "      <td>139822</td>\n",
              "      <td>train</td>\n",
              "      <td>15</td>\n",
              "      <td>6</td>\n",
              "      <td>10</td>\n",
              "      <td>8.0</td>\n",
              "      <td>1.000000</td>\n",
              "    </tr>\n",
              "    <tr>\n",
              "      <th>1384615</th>\n",
              "      <td>3421070</td>\n",
              "      <td>16953</td>\n",
              "      <td>2</td>\n",
              "      <td>1</td>\n",
              "      <td>139822</td>\n",
              "      <td>train</td>\n",
              "      <td>15</td>\n",
              "      <td>6</td>\n",
              "      <td>10</td>\n",
              "      <td>8.0</td>\n",
              "      <td>0.496855</td>\n",
              "    </tr>\n",
              "    <tr>\n",
              "      <th>1384616</th>\n",
              "      <td>3421070</td>\n",
              "      <td>4724</td>\n",
              "      <td>3</td>\n",
              "      <td>1</td>\n",
              "      <td>139822</td>\n",
              "      <td>train</td>\n",
              "      <td>15</td>\n",
              "      <td>6</td>\n",
              "      <td>10</td>\n",
              "      <td>8.0</td>\n",
              "      <td>0.329140</td>\n",
              "    </tr>\n",
              "  </tbody>\n",
              "</table>\n",
              "<p>1384617 rows × 11 columns</p>\n",
              "</div>"
            ],
            "text/plain": [
              "         order_id  product_id  add_to_cart_order  reordered  user_id eval_set  \\\n",
              "0               1       49302                  1          1   112108    train   \n",
              "1               1       11109                  2          1   112108    train   \n",
              "2               1       10246                  3          0   112108    train   \n",
              "3               1       49683                  4          0   112108    train   \n",
              "4               1       43633                  5          1   112108    train   \n",
              "...           ...         ...                ...        ...      ...      ...   \n",
              "1384612   3421063       14233                  3          1   169679    train   \n",
              "1384613   3421063       35548                  4          1   169679    train   \n",
              "1384614   3421070       35951                  1          1   139822    train   \n",
              "1384615   3421070       16953                  2          1   139822    train   \n",
              "1384616   3421070        4724                  3          1   139822    train   \n",
              "\n",
              "         order_number  order_dow  order_hour_of_day  days_since_prior_order  \\\n",
              "0                   4          4                 10                     9.0   \n",
              "1                   4          4                 10                     9.0   \n",
              "2                   4          4                 10                     9.0   \n",
              "3                   4          4                 10                     9.0   \n",
              "4                   4          4                 10                     9.0   \n",
              "...               ...        ...                ...                     ...   \n",
              "1384612            30          0                 10                     4.0   \n",
              "1384613            30          0                 10                     4.0   \n",
              "1384614            15          6                 10                     8.0   \n",
              "1384615            15          6                 10                     8.0   \n",
              "1384616            15          6                 10                     8.0   \n",
              "\n",
              "            score  \n",
              "0        1.000000  \n",
              "1        0.496855  \n",
              "2        0.161426  \n",
              "3        0.119497  \n",
              "4        0.194969  \n",
              "...           ...  \n",
              "1384612  0.329140  \n",
              "1384613  0.245283  \n",
              "1384614  1.000000  \n",
              "1384615  0.496855  \n",
              "1384616  0.329140  \n",
              "\n",
              "[1384617 rows x 11 columns]"
            ]
          },
          "execution_count": 49,
          "metadata": {},
          "output_type": "execute_result"
        }
      ],
      "source": [
        "data"
      ]
    },
    {
      "cell_type": "code",
      "execution_count": 50,
      "metadata": {},
      "outputs": [
        {
          "data": {
            "text/html": [
              "<div>\n",
              "<style scoped>\n",
              "    .dataframe tbody tr th:only-of-type {\n",
              "        vertical-align: middle;\n",
              "    }\n",
              "\n",
              "    .dataframe tbody tr th {\n",
              "        vertical-align: top;\n",
              "    }\n",
              "\n",
              "    .dataframe thead th {\n",
              "        text-align: right;\n",
              "    }\n",
              "</style>\n",
              "<table border=\"1\" class=\"dataframe\">\n",
              "  <thead>\n",
              "    <tr style=\"text-align: right;\">\n",
              "      <th></th>\n",
              "      <th>product_id</th>\n",
              "      <th>user_id</th>\n",
              "      <th>product_name</th>\n",
              "    </tr>\n",
              "  </thead>\n",
              "  <tbody>\n",
              "    <tr>\n",
              "      <th>0</th>\n",
              "      <td>49302</td>\n",
              "      <td>112108</td>\n",
              "      <td>Bulgarian Yogurt</td>\n",
              "    </tr>\n",
              "    <tr>\n",
              "      <th>1</th>\n",
              "      <td>11109</td>\n",
              "      <td>112108</td>\n",
              "      <td>Organic 4% Milk Fat Whole Milk Cottage Cheese</td>\n",
              "    </tr>\n",
              "    <tr>\n",
              "      <th>2</th>\n",
              "      <td>10246</td>\n",
              "      <td>112108</td>\n",
              "      <td>Organic Celery Hearts</td>\n",
              "    </tr>\n",
              "    <tr>\n",
              "      <th>3</th>\n",
              "      <td>49683</td>\n",
              "      <td>112108</td>\n",
              "      <td>Cucumber Kirby</td>\n",
              "    </tr>\n",
              "    <tr>\n",
              "      <th>4</th>\n",
              "      <td>43633</td>\n",
              "      <td>112108</td>\n",
              "      <td>Lightly Smoked Sardines in Olive Oil</td>\n",
              "    </tr>\n",
              "    <tr>\n",
              "      <th>...</th>\n",
              "      <td>...</td>\n",
              "      <td>...</td>\n",
              "      <td>...</td>\n",
              "    </tr>\n",
              "    <tr>\n",
              "      <th>1384612</th>\n",
              "      <td>14233</td>\n",
              "      <td>169679</td>\n",
              "      <td>Natural Artesian Water</td>\n",
              "    </tr>\n",
              "    <tr>\n",
              "      <th>1384613</th>\n",
              "      <td>35548</td>\n",
              "      <td>169679</td>\n",
              "      <td>Twice Baked Potatoes</td>\n",
              "    </tr>\n",
              "    <tr>\n",
              "      <th>1384614</th>\n",
              "      <td>35951</td>\n",
              "      <td>139822</td>\n",
              "      <td>Organic Unsweetened Almond Milk</td>\n",
              "    </tr>\n",
              "    <tr>\n",
              "      <th>1384615</th>\n",
              "      <td>16953</td>\n",
              "      <td>139822</td>\n",
              "      <td>Creamy Peanut Butter</td>\n",
              "    </tr>\n",
              "    <tr>\n",
              "      <th>1384616</th>\n",
              "      <td>4724</td>\n",
              "      <td>139822</td>\n",
              "      <td>Broccoli Florettes</td>\n",
              "    </tr>\n",
              "  </tbody>\n",
              "</table>\n",
              "<p>1384617 rows × 3 columns</p>\n",
              "</div>"
            ],
            "text/plain": [
              "         product_id  user_id                                   product_name\n",
              "0             49302   112108                               Bulgarian Yogurt\n",
              "1             11109   112108  Organic 4% Milk Fat Whole Milk Cottage Cheese\n",
              "2             10246   112108                          Organic Celery Hearts\n",
              "3             49683   112108                                 Cucumber Kirby\n",
              "4             43633   112108           Lightly Smoked Sardines in Olive Oil\n",
              "...             ...      ...                                            ...\n",
              "1384612       14233   169679                         Natural Artesian Water\n",
              "1384613       35548   169679                           Twice Baked Potatoes\n",
              "1384614       35951   139822                Organic Unsweetened Almond Milk\n",
              "1384615       16953   139822                           Creamy Peanut Butter\n",
              "1384616        4724   139822                             Broccoli Florettes\n",
              "\n",
              "[1384617 rows x 3 columns]"
            ]
          },
          "execution_count": 50,
          "metadata": {},
          "output_type": "execute_result"
        }
      ],
      "source": [
        "# Obtenemos la ultima compra de los usuarios\n",
        "last_purchases = orders_train.sort_values(['user_id', 'order_number'], ascending=[True, False]).drop_duplicates('user_id', keep='first')\n",
        "last_purchases = data[data_train['order_id'].isin(last_purchases['order_id'])]\n",
        "last_purchases = last_purchases.merge(products, on='product_id', how='left')\n",
        "last_purchases=last_purchases[['product_id', 'user_id', 'product_name']]\n",
        "\n",
        "last_purchases"
      ]
    },
    {
      "cell_type": "code",
      "execution_count": 51,
      "metadata": {},
      "outputs": [
        {
          "data": {
            "text/html": [
              "<div>\n",
              "<style scoped>\n",
              "    .dataframe tbody tr th:only-of-type {\n",
              "        vertical-align: middle;\n",
              "    }\n",
              "\n",
              "    .dataframe tbody tr th {\n",
              "        vertical-align: top;\n",
              "    }\n",
              "\n",
              "    .dataframe thead th {\n",
              "        text-align: right;\n",
              "    }\n",
              "</style>\n",
              "<table border=\"1\" class=\"dataframe\">\n",
              "  <thead>\n",
              "    <tr style=\"text-align: right;\">\n",
              "      <th></th>\n",
              "      <th>user_id</th>\n",
              "      <th>product_id</th>\n",
              "      <th>score</th>\n",
              "    </tr>\n",
              "  </thead>\n",
              "  <tbody>\n",
              "    <tr>\n",
              "      <th>0</th>\n",
              "      <td>1</td>\n",
              "      <td>196</td>\n",
              "      <td>1.000000</td>\n",
              "    </tr>\n",
              "    <tr>\n",
              "      <th>1</th>\n",
              "      <td>1</td>\n",
              "      <td>10258</td>\n",
              "      <td>0.161426</td>\n",
              "    </tr>\n",
              "    <tr>\n",
              "      <th>2</th>\n",
              "      <td>1</td>\n",
              "      <td>13032</td>\n",
              "      <td>0.137466</td>\n",
              "    </tr>\n",
              "    <tr>\n",
              "      <th>3</th>\n",
              "      <td>1</td>\n",
              "      <td>25133</td>\n",
              "      <td>0.496855</td>\n",
              "    </tr>\n",
              "    <tr>\n",
              "      <th>4</th>\n",
              "      <td>1</td>\n",
              "      <td>26088</td>\n",
              "      <td>0.119497</td>\n",
              "    </tr>\n",
              "    <tr>\n",
              "      <th>...</th>\n",
              "      <td>...</td>\n",
              "      <td>...</td>\n",
              "      <td>...</td>\n",
              "    </tr>\n",
              "    <tr>\n",
              "      <th>1384612</th>\n",
              "      <td>206209</td>\n",
              "      <td>24852</td>\n",
              "      <td>0.329140</td>\n",
              "    </tr>\n",
              "    <tr>\n",
              "      <th>1384613</th>\n",
              "      <td>206209</td>\n",
              "      <td>37966</td>\n",
              "      <td>0.065588</td>\n",
              "    </tr>\n",
              "    <tr>\n",
              "      <th>1384614</th>\n",
              "      <td>206209</td>\n",
              "      <td>39216</td>\n",
              "      <td>0.119497</td>\n",
              "    </tr>\n",
              "    <tr>\n",
              "      <th>1384615</th>\n",
              "      <td>206209</td>\n",
              "      <td>40603</td>\n",
              "      <td>0.119497</td>\n",
              "    </tr>\n",
              "    <tr>\n",
              "      <th>1384616</th>\n",
              "      <td>206209</td>\n",
              "      <td>42606</td>\n",
              "      <td>0.077568</td>\n",
              "    </tr>\n",
              "  </tbody>\n",
              "</table>\n",
              "<p>1384617 rows × 3 columns</p>\n",
              "</div>"
            ],
            "text/plain": [
              "         user_id  product_id     score\n",
              "0              1         196  1.000000\n",
              "1              1       10258  0.161426\n",
              "2              1       13032  0.137466\n",
              "3              1       25133  0.496855\n",
              "4              1       26088  0.119497\n",
              "...          ...         ...       ...\n",
              "1384612   206209       24852  0.329140\n",
              "1384613   206209       37966  0.065588\n",
              "1384614   206209       39216  0.119497\n",
              "1384615   206209       40603  0.119497\n",
              "1384616   206209       42606  0.077568\n",
              "\n",
              "[1384617 rows x 3 columns]"
            ]
          },
          "execution_count": 51,
          "metadata": {},
          "output_type": "execute_result"
        }
      ],
      "source": [
        "# Si hubiera datos duplicados, sumamos el score\n",
        "df = data.groupby([\"user_id\", \"product_id\"], as_index=False)[\"score\"].sum()\n",
        "df"
      ]
    },
    {
      "cell_type": "markdown",
      "metadata": {},
      "source": [
        "## 2. Modelo"
      ]
    },
    {
      "cell_type": "code",
      "execution_count": 52,
      "metadata": {},
      "outputs": [],
      "source": [
        "# -------- split --------\n",
        "train_df, test_df = train_test_split(df, test_size=0.2, random_state=42)"
      ]
    },
    {
      "cell_type": "code",
      "execution_count": 53,
      "metadata": {},
      "outputs": [],
      "source": [
        "# reindex solo con TRAIN\n",
        "u_codes_train, u_uni_train = pd.factorize(train_df['user_id'], sort=True)\n",
        "i_codes_train, i_uni_train = pd.factorize(train_df['product_id'], sort=True)"
      ]
    },
    {
      "cell_type": "code",
      "execution_count": 54,
      "metadata": {},
      "outputs": [],
      "source": [
        "# matriz USUARIOXITEM para implicit\n",
        "U, I = u_uni_train.size, i_uni_train.size\n",
        "train_mat_ui = csr_matrix(\n",
        "    (train_df['score'].astype(np.float32).values, ( u_codes_train, i_codes_train)),\n",
        "    shape=(U,I), dtype=np.float32\n",
        ")"
      ]
    },
    {
      "cell_type": "code",
      "execution_count": 55,
      "metadata": {},
      "outputs": [
        {
          "name": "stderr",
          "output_type": "stream",
          "text": [
            "100%|██████████| 20/20 [00:10<00:00,  1.82it/s]\n"
          ]
        }
      ],
      "source": [
        "# -------- fit --------\n",
        "model = implicit.als.AlternatingLeastSquares(\n",
        "    factors=64, regularization=0.1, iterations=20, dtype=np.float32, random_state=42\n",
        ")\n",
        "model.fit(train_mat_ui)\n"
      ]
    },
    {
      "cell_type": "markdown",
      "metadata": {},
      "source": [
        "## 3. Evaluacion"
      ]
    },
    {
      "cell_type": "code",
      "execution_count": 56,
      "metadata": {},
      "outputs": [
        {
          "name": "stderr",
          "output_type": "stream",
          "text": [
            "100%|██████████| 129473/129473 [00:22<00:00, 5862.84it/s]"
          ]
        },
        {
          "name": "stdout",
          "output_type": "stream",
          "text": [
            "AUC@10 train: 0.49986593536601626\n"
          ]
        },
        {
          "name": "stderr",
          "output_type": "stream",
          "text": [
            "\n"
          ]
        }
      ],
      "source": [
        "# Número de productos recomendados a evaluar\n",
        "k = 10\n",
        "\n",
        "# Ejecutar la evaluación AUC at K\n",
        "train_auc = AUC_at_k(model, train_mat_ui, train_mat_ui, K=k, show_progress=True)\n",
        "\n",
        "print(f\"AUC@10 train: {train_auc}\")\n"
      ]
    },
    {
      "cell_type": "markdown",
      "metadata": {},
      "source": [
        "## 4. Optimizacion"
      ]
    },
    {
      "cell_type": "code",
      "execution_count": 57,
      "metadata": {},
      "outputs": [
        {
          "name": "stdout",
          "output_type": "stream",
          "text": [
            "Evaluando combinación: {'factors': 20, 'iterations': 10, 'regularization': 0.01}\n"
          ]
        },
        {
          "name": "stderr",
          "output_type": "stream",
          "text": [
            "100%|██████████| 10/10 [00:05<00:00,  1.90it/s]\n"
          ]
        },
        {
          "name": "stdout",
          "output_type": "stream",
          "text": [
            "AUC@10: 0.49986593536601626\n",
            "Evaluando combinación: {'factors': 20, 'iterations': 10, 'regularization': 0.1}\n"
          ]
        },
        {
          "name": "stderr",
          "output_type": "stream",
          "text": [
            "100%|██████████| 10/10 [00:05<00:00,  1.98it/s]\n"
          ]
        },
        {
          "name": "stdout",
          "output_type": "stream",
          "text": [
            "AUC@10: 0.49986593536601626\n",
            "Evaluando combinación: {'factors': 20, 'iterations': 10, 'regularization': 1.0}\n"
          ]
        },
        {
          "name": "stderr",
          "output_type": "stream",
          "text": [
            "100%|██████████| 10/10 [00:04<00:00,  2.03it/s]\n"
          ]
        },
        {
          "name": "stdout",
          "output_type": "stream",
          "text": [
            "AUC@10: 0.49986593536601626\n",
            "Evaluando combinación: {'factors': 20, 'iterations': 20, 'regularization': 0.01}\n"
          ]
        },
        {
          "name": "stderr",
          "output_type": "stream",
          "text": [
            "100%|██████████| 20/20 [00:09<00:00,  2.00it/s]\n"
          ]
        },
        {
          "name": "stdout",
          "output_type": "stream",
          "text": [
            "AUC@10: 0.49986593536601626\n",
            "Evaluando combinación: {'factors': 20, 'iterations': 20, 'regularization': 0.1}\n"
          ]
        },
        {
          "name": "stderr",
          "output_type": "stream",
          "text": [
            "100%|██████████| 20/20 [00:10<00:00,  1.91it/s]\n"
          ]
        },
        {
          "name": "stdout",
          "output_type": "stream",
          "text": [
            "AUC@10: 0.49986593536601626\n",
            "Evaluando combinación: {'factors': 20, 'iterations': 20, 'regularization': 1.0}\n"
          ]
        },
        {
          "name": "stderr",
          "output_type": "stream",
          "text": [
            "100%|██████████| 20/20 [00:10<00:00,  1.99it/s]\n"
          ]
        },
        {
          "name": "stdout",
          "output_type": "stream",
          "text": [
            "AUC@10: 0.49986593536601626\n",
            "Evaluando combinación: {'factors': 20, 'iterations': 30, 'regularization': 0.01}\n"
          ]
        },
        {
          "name": "stderr",
          "output_type": "stream",
          "text": [
            "100%|██████████| 30/30 [00:15<00:00,  1.92it/s]\n"
          ]
        },
        {
          "name": "stdout",
          "output_type": "stream",
          "text": [
            "AUC@10: 0.49986593536601626\n",
            "Evaluando combinación: {'factors': 20, 'iterations': 30, 'regularization': 0.1}\n"
          ]
        },
        {
          "name": "stderr",
          "output_type": "stream",
          "text": [
            "100%|██████████| 30/30 [00:15<00:00,  1.91it/s]\n"
          ]
        },
        {
          "name": "stdout",
          "output_type": "stream",
          "text": [
            "AUC@10: 0.49986593536601626\n",
            "Evaluando combinación: {'factors': 20, 'iterations': 30, 'regularization': 1.0}\n"
          ]
        },
        {
          "name": "stderr",
          "output_type": "stream",
          "text": [
            "100%|██████████| 30/30 [00:16<00:00,  1.84it/s]\n"
          ]
        },
        {
          "name": "stdout",
          "output_type": "stream",
          "text": [
            "AUC@10: 0.49986593536601626\n",
            "Evaluando combinación: {'factors': 50, 'iterations': 10, 'regularization': 0.01}\n"
          ]
        },
        {
          "name": "stderr",
          "output_type": "stream",
          "text": [
            "100%|██████████| 10/10 [00:06<00:00,  1.65it/s]\n"
          ]
        },
        {
          "name": "stdout",
          "output_type": "stream",
          "text": [
            "AUC@10: 0.49986593536601626\n",
            "Evaluando combinación: {'factors': 50, 'iterations': 10, 'regularization': 0.1}\n"
          ]
        },
        {
          "name": "stderr",
          "output_type": "stream",
          "text": [
            "100%|██████████| 10/10 [00:06<00:00,  1.67it/s]\n"
          ]
        },
        {
          "name": "stdout",
          "output_type": "stream",
          "text": [
            "AUC@10: 0.49986593536601626\n",
            "Evaluando combinación: {'factors': 50, 'iterations': 10, 'regularization': 1.0}\n"
          ]
        },
        {
          "name": "stderr",
          "output_type": "stream",
          "text": [
            "100%|██████████| 10/10 [00:06<00:00,  1.65it/s]\n"
          ]
        },
        {
          "name": "stdout",
          "output_type": "stream",
          "text": [
            "AUC@10: 0.49986593536601626\n",
            "Evaluando combinación: {'factors': 50, 'iterations': 20, 'regularization': 0.01}\n"
          ]
        },
        {
          "name": "stderr",
          "output_type": "stream",
          "text": [
            "100%|██████████| 20/20 [00:12<00:00,  1.64it/s]\n"
          ]
        },
        {
          "name": "stdout",
          "output_type": "stream",
          "text": [
            "AUC@10: 0.49986593536601626\n",
            "Evaluando combinación: {'factors': 50, 'iterations': 20, 'regularization': 0.1}\n"
          ]
        },
        {
          "name": "stderr",
          "output_type": "stream",
          "text": [
            "100%|██████████| 20/20 [00:12<00:00,  1.64it/s]\n"
          ]
        },
        {
          "name": "stdout",
          "output_type": "stream",
          "text": [
            "AUC@10: 0.49986593536601626\n",
            "Evaluando combinación: {'factors': 50, 'iterations': 20, 'regularization': 1.0}\n"
          ]
        },
        {
          "name": "stderr",
          "output_type": "stream",
          "text": [
            "100%|██████████| 20/20 [00:12<00:00,  1.64it/s]\n"
          ]
        },
        {
          "name": "stdout",
          "output_type": "stream",
          "text": [
            "AUC@10: 0.49986593536601626\n",
            "Evaluando combinación: {'factors': 50, 'iterations': 30, 'regularization': 0.01}\n"
          ]
        },
        {
          "name": "stderr",
          "output_type": "stream",
          "text": [
            "100%|██████████| 30/30 [00:18<00:00,  1.66it/s]\n"
          ]
        },
        {
          "name": "stdout",
          "output_type": "stream",
          "text": [
            "AUC@10: 0.49986593536601626\n",
            "Evaluando combinación: {'factors': 50, 'iterations': 30, 'regularization': 0.1}\n"
          ]
        },
        {
          "name": "stderr",
          "output_type": "stream",
          "text": [
            "100%|██████████| 30/30 [00:17<00:00,  1.67it/s]\n"
          ]
        },
        {
          "name": "stdout",
          "output_type": "stream",
          "text": [
            "AUC@10: 0.49986593536601626\n",
            "Evaluando combinación: {'factors': 50, 'iterations': 30, 'regularization': 1.0}\n"
          ]
        },
        {
          "name": "stderr",
          "output_type": "stream",
          "text": [
            "100%|██████████| 30/30 [00:18<00:00,  1.63it/s]\n"
          ]
        },
        {
          "name": "stdout",
          "output_type": "stream",
          "text": [
            "AUC@10: 0.49986593536601626\n",
            "Evaluando combinación: {'factors': 100, 'iterations': 10, 'regularization': 0.01}\n"
          ]
        },
        {
          "name": "stderr",
          "output_type": "stream",
          "text": [
            "100%|██████████| 10/10 [00:07<00:00,  1.39it/s]\n"
          ]
        },
        {
          "name": "stdout",
          "output_type": "stream",
          "text": [
            "AUC@10: 0.49986593536601626\n",
            "Evaluando combinación: {'factors': 100, 'iterations': 10, 'regularization': 0.1}\n"
          ]
        },
        {
          "name": "stderr",
          "output_type": "stream",
          "text": [
            "100%|██████████| 10/10 [00:07<00:00,  1.39it/s]\n"
          ]
        },
        {
          "name": "stdout",
          "output_type": "stream",
          "text": [
            "AUC@10: 0.49986593536601626\n",
            "Evaluando combinación: {'factors': 100, 'iterations': 10, 'regularization': 1.0}\n"
          ]
        },
        {
          "name": "stderr",
          "output_type": "stream",
          "text": [
            "100%|██████████| 10/10 [00:07<00:00,  1.40it/s]\n"
          ]
        },
        {
          "name": "stdout",
          "output_type": "stream",
          "text": [
            "AUC@10: 0.49986593536601626\n",
            "Evaluando combinación: {'factors': 100, 'iterations': 20, 'regularization': 0.01}\n"
          ]
        },
        {
          "name": "stderr",
          "output_type": "stream",
          "text": [
            "100%|██████████| 20/20 [00:14<00:00,  1.39it/s]\n"
          ]
        },
        {
          "name": "stdout",
          "output_type": "stream",
          "text": [
            "AUC@10: 0.49986593536601626\n",
            "Evaluando combinación: {'factors': 100, 'iterations': 20, 'regularization': 0.1}\n"
          ]
        },
        {
          "name": "stderr",
          "output_type": "stream",
          "text": [
            "100%|██████████| 20/20 [00:14<00:00,  1.39it/s]\n"
          ]
        },
        {
          "name": "stdout",
          "output_type": "stream",
          "text": [
            "AUC@10: 0.49986593536601626\n",
            "Evaluando combinación: {'factors': 100, 'iterations': 20, 'regularization': 1.0}\n"
          ]
        },
        {
          "name": "stderr",
          "output_type": "stream",
          "text": [
            "100%|██████████| 20/20 [00:14<00:00,  1.39it/s]\n"
          ]
        },
        {
          "name": "stdout",
          "output_type": "stream",
          "text": [
            "AUC@10: 0.49986593536601626\n",
            "Evaluando combinación: {'factors': 100, 'iterations': 30, 'regularization': 0.01}\n"
          ]
        },
        {
          "name": "stderr",
          "output_type": "stream",
          "text": [
            "100%|██████████| 30/30 [00:21<00:00,  1.40it/s]\n"
          ]
        },
        {
          "name": "stdout",
          "output_type": "stream",
          "text": [
            "AUC@10: 0.49986593536601626\n",
            "Evaluando combinación: {'factors': 100, 'iterations': 30, 'regularization': 0.1}\n"
          ]
        },
        {
          "name": "stderr",
          "output_type": "stream",
          "text": [
            "100%|██████████| 30/30 [00:21<00:00,  1.39it/s]\n"
          ]
        },
        {
          "name": "stdout",
          "output_type": "stream",
          "text": [
            "AUC@10: 0.49986593536601626\n",
            "Evaluando combinación: {'factors': 100, 'iterations': 30, 'regularization': 1.0}\n"
          ]
        },
        {
          "name": "stderr",
          "output_type": "stream",
          "text": [
            "100%|██████████| 30/30 [00:21<00:00,  1.39it/s]\n"
          ]
        },
        {
          "name": "stdout",
          "output_type": "stream",
          "text": [
            "AUC@10: 0.49986593536601626\n",
            "\n",
            "Mejores hiperparámetros: {'factors': 20, 'iterations': 10, 'regularization': 0.01}\n",
            "Mejor AUC@10: 0.49986593536601626\n"
          ]
        }
      ],
      "source": [
        "# Definir los valores para el grid search\n",
        "param_grid = {\n",
        "    'factors': [20, 50, 100],\n",
        "    'regularization': [0.01, 0.1, 1.0],\n",
        "    'iterations': [10, 20, 30]\n",
        "}\n",
        "\n",
        "# Inicializar las variables para almacenar el mejor modelo\n",
        "best_auc = 0\n",
        "best_params = {}\n",
        "\n",
        "# Iterar sobre las combinaciones de hiperparámetros\n",
        "for params in ParameterGrid(param_grid):\n",
        "    print(f\"Evaluando combinación: {params}\")\n",
        "    \n",
        "    # Crear y entrenar el modelo con los hiperparámetros actuales\n",
        "    model = implicit.als.AlternatingLeastSquares(\n",
        "        factors=params['factors'],\n",
        "        regularization=params['regularization'],\n",
        "        iterations=params['iterations'],\n",
        "        dtype=np.float32,\n",
        "        random_state=42\n",
        "    )\n",
        "    model.fit(train_mat_ui)\n",
        "    \n",
        "    # Evaluar el modelo en el conjunto de prueba usando AUC\n",
        "    auc = AUC_at_k(\n",
        "        model, train_mat_ui, train_mat_ui, K=10, show_progress=False\n",
        "    )\n",
        "    \n",
        "    # Mostrar la métrica AUC para la combinación actual\n",
        "    print(f\"AUC@10: {auc}\")\n",
        "    \n",
        "    # Actualizar el mejor modelo si encontramos uno con mejor AUC\n",
        "    if auc > best_auc:\n",
        "        best_auc = auc\n",
        "        best_params = params\n",
        "        best_model = model\n",
        "# Mostrar los mejores hiperparámetros encontrados y la AUC correspondiente\n",
        "print(f\"\\nMejores hiperparámetros: {best_params}\")\n",
        "print(f\"Mejor AUC@10: {best_auc}\")"
      ]
    },
    {
      "cell_type": "markdown",
      "metadata": {},
      "source": [
        "No se observa que mejora a pesar de que cambian los parametros, entonces se escoge el menor para ahorrar costo computacional y tambien evaluar con datos de testeo."
      ]
    },
    {
      "cell_type": "markdown",
      "metadata": {},
      "source": [
        "## 5. Probamos modelo"
      ]
    },
    {
      "cell_type": "code",
      "execution_count": 58,
      "metadata": {},
      "outputs": [],
      "source": [
        "# reindex solo con TRAIN\n",
        "u_codes, u_uni = pd.factorize(df['user_id'], sort=True)\n",
        "i_codes, i_uni = pd.factorize(df['product_id'], sort=True)"
      ]
    },
    {
      "cell_type": "code",
      "execution_count": 59,
      "metadata": {},
      "outputs": [],
      "source": [
        "# Helpers\n",
        "user_to_num = dict(zip(u_uni, range(len(u_uni))))\n",
        "num_to_user = dict(zip(range(len(u_uni)), u_uni))\n",
        "\n",
        "product_to_num = dict(zip(i_uni, range(len(i_uni))))\n",
        "num_to_product = dict(zip(range(len(i_uni)), i_uni))\n",
        "\n",
        "product_id_to_name = dict(zip(products['product_id'], products['product_name']))\n"
      ]
    },
    {
      "cell_type": "code",
      "execution_count": 60,
      "metadata": {},
      "outputs": [],
      "source": [
        "# matriz USUARIOXITEM para implicit\n",
        "U, I = u_uni.size, i_uni.size\n",
        "mat_ui = csr_matrix(\n",
        "    (df['score'].astype(np.float32).values, (u_codes, i_codes)),\n",
        "    shape=(U, I),\n",
        "    dtype=np.float32\n",
        ")"
      ]
    },
    {
      "cell_type": "code",
      "execution_count": 61,
      "metadata": {},
      "outputs": [
        {
          "name": "stderr",
          "output_type": "stream",
          "text": [
            "100%|██████████| 10/10 [00:05<00:00,  1.73it/s]\n"
          ]
        }
      ],
      "source": [
        "# Entrenar con los mejores parametros\n",
        "model = implicit.als.AlternatingLeastSquares(\n",
        "    factors=20, regularization=0.1, iterations=10, dtype=np.float32, random_state=42\n",
        ")\n",
        "model.fit(mat_ui)"
      ]
    },
    {
      "cell_type": "code",
      "execution_count": 62,
      "metadata": {},
      "outputs": [],
      "source": [
        "def recommend_user(u_orig, N=10, filter_already=True, recalc=True):\n",
        "    # Verificar si el usuario está registrado\n",
        "    if u_orig not in u_uni:\n",
        "        raise KeyError(f\"user_id {u_orig} no es un cliente registrado\")\n",
        "    \n",
        "    u_ix = user_to_num.get(u_orig)\n",
        "\n",
        "    # Obtener las recomendaciones del modelo\n",
        "    ids, scores = model.recommend(\n",
        "        u_ix,\n",
        "        user_items=mat_ui[u_ix],\n",
        "        N=N,\n",
        "        filter_already_liked_items=filter_already,\n",
        "    )\n",
        "\n",
        "    # Mapear las recomendaciones a product_id y su score\n",
        "    return [(num_to_product[i], float(s)) for i, s in zip(ids, scores)]\n",
        "\n",
        "def report_user(u_orig, N=10):\n",
        "    try:\n",
        "        recs = recommend_user(u_orig, N=N)\n",
        "    except KeyError:\n",
        "        return f\"El usuario {u_orig} no está registrado\"\n",
        "    \n",
        "    # Filtrar las últimas compras del usuario\n",
        "    last_purchases_user = last_purchases[last_purchases['user_id'] == u_orig]\n",
        "\n",
        "    # Mostrar las últimas compras\n",
        "    print(\"Última compra del usuario:\")\n",
        "    if not last_purchases_user.empty:\n",
        "        print(last_purchases_user[['product_id', 'product_name']])\n",
        "    else:\n",
        "        print(\"El usuario no tiene compras registradas.\")\n",
        "\n",
        "    # Mostrar las recomendaciones\n",
        "    print(\"\\nRecomendaciones:\")\n",
        "    recommendations = [(pid, product_id_to_name.get(pid, 'Desconocido'), score) for pid, score in recs]\n",
        "\n",
        "    # Mostrar las recomendaciones con los nombres\n",
        "    for pid, name, score in recommendations:\n",
        "        print(f\"Producto: {name}, Puntuación: {score:.4f}\")"
      ]
    },
    {
      "cell_type": "code",
      "execution_count": 63,
      "metadata": {},
      "outputs": [
        {
          "name": "stdout",
          "output_type": "stream",
          "text": [
            "Última compra del usuario:\n",
            "        product_id                      product_name\n",
            "484420         196                              Soda\n",
            "484421       25133             Organic String Cheese\n",
            "484422       38928          0% Greek Strained Yogurt\n",
            "484423       26405  XL Pick-A-Size Paper Towel Rolls\n",
            "484424       39657            Milk Chocolate Almonds\n",
            "484425       10258                        Pistachios\n",
            "484426       13032             Cinnamon Toast Crunch\n",
            "484427       26088        Aged White Cheddar Popcorn\n",
            "484428       27845                Organic Whole Milk\n",
            "484429       49235               Organic Half & Half\n",
            "484430       46149                 Zero Calorie Cola\n",
            "\n",
            "Recomendaciones:\n",
            "Producto: Clementines, Puntuación: 0.0376\n",
            "Producto: Organic Unsweetened Almond Milk, Puntuación: 0.0370\n",
            "Producto: Half & Half, Puntuación: 0.0316\n",
            "Producto: Trail Mix, Puntuación: 0.0294\n",
            "Producto: Sparkling Mineral Water, Puntuación: 0.0234\n",
            "Producto: Mineral Water, Puntuación: 0.0210\n",
            "Producto: Sparkling Natural Mineral Water, Puntuación: 0.0199\n",
            "Producto: Sparkling Water, Puntuación: 0.0192\n",
            "Producto: Reduced Fat 2% Milk, Puntuación: 0.0160\n",
            "Producto: Organic Yellow Onion, Puntuación: 0.0152\n",
            "None\n"
          ]
        }
      ],
      "source": [
        "print(report_user(1, N=10))"
      ]
    },
    {
      "cell_type": "markdown",
      "metadata": {},
      "source": [
        "## 6. Guardamos modelo"
      ]
    },
    {
      "cell_type": "code",
      "execution_count": 64,
      "metadata": {},
      "outputs": [
        {
          "data": {
            "text/plain": [
              "['./artifacts/last_purchases.pkl']"
            ]
          },
          "execution_count": 64,
          "metadata": {},
          "output_type": "execute_result"
        }
      ],
      "source": [
        "import joblib\n",
        "\n",
        "# Guardar el modelo ALS\n",
        "joblib.dump(model, './artifacts/modelo_als.pkl')\n",
        "\n",
        "# Guardar la matriz dispersa de usuario-producto (mat_iu)\n",
        "joblib.dump(mat_ui, './artifacts/matriz_ui.pkl')\n",
        "\n",
        "# Guardar los diccionarios necesarios\n",
        "joblib.dump(product_id_to_name, './artifacts/product_id_to_name.pkl')\n",
        "joblib.dump(user_to_num, './artifacts/user_to_num.pkl')\n",
        "joblib.dump(num_to_product, './artifacts/num_to_product.pkl')\n",
        "joblib.dump(last_purchases, './artifacts/last_purchases.pkl')\n"
      ]
    }
  ],
  "metadata": {
    "colab": {
      "provenance": [],
      "runtime_attributes": {
        "runtime_version": "2025.07"
      }
    },
    "kernelspec": {
      "display_name": "recsys",
      "language": "python",
      "name": "python3"
    },
    "language_info": {
      "codemirror_mode": {
        "name": "ipython",
        "version": 3
      },
      "file_extension": ".py",
      "mimetype": "text/x-python",
      "name": "python",
      "nbconvert_exporter": "python",
      "pygments_lexer": "ipython3",
      "version": "3.11.13"
    }
  },
  "nbformat": 4,
  "nbformat_minor": 0
}
